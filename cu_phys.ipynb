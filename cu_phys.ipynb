{
 "cells": [
  {
   "cell_type": "markdown",
   "metadata": {},
   "source": [
    "# Contents:\n",
    "This notebook has two sections.\n",
    "- Distribution Functions\n",
    "- Specific Heat\n",
    "References\n",
    "\n",
    "To learn more about each of the functions and libraries used, use the links in the [References](#references) section."
   ]
  },
  {
   "cell_type": "markdown",
   "metadata": {},
   "source": [
    "### Distribution Funtions\n",
    "The codes to implement and fit the three distribution functions in statistical physics.\n",
    "- [Maxwell-Boltzmann](#maxwell)\n",
    "- [Fermi-Dirac](#fermi)\n",
    "- [Bose-Einstein](#bose)"
   ]
  },
  {
   "cell_type": "code",
   "execution_count": 1,
   "metadata": {},
   "outputs": [],
   "source": [
    "import scipy.stats as stats\n",
    "import matplotlib.pyplot as plt\n",
    "import numpy as np"
   ]
  },
  {
   "cell_type": "markdown",
   "metadata": {},
   "source": [
    "<a id = 'maxwell'></a>"
   ]
  },
  {
   "cell_type": "markdown",
   "metadata": {},
   "source": [
    "### Maxwell-Boltzmann distribution function\n",
    "\n",
    "Add details, formula"
   ]
  },
  {
   "cell_type": "markdown",
   "metadata": {},
   "source": [
    "use the stats library to call the maxwell function\n",
    "\n",
    "this generates a Maxwell continuous random variable"
   ]
  },
  {
   "cell_type": "code",
   "execution_count": 2,
   "metadata": {},
   "outputs": [],
   "source": [
    "maxwell = stats.maxwell"
   ]
  },
  {
   "cell_type": "markdown",
   "metadata": {},
   "source": [
    "Generate random numbers (which will be our dataset)\n",
    "\n",
    "Use the parameter 'size' to set the number of data points. Here, we generate 10,000 dat points"
   ]
  },
  {
   "cell_type": "code",
   "execution_count": 10,
   "metadata": {},
   "outputs": [],
   "source": [
    "data = maxwell.rvs(size=10000)"
   ]
  },
  {
   "cell_type": "code",
   "execution_count": 11,
   "metadata": {},
   "outputs": [
    {
     "data": {
      "text/plain": [
       "10000"
      ]
     },
     "execution_count": 11,
     "metadata": {},
     "output_type": "execute_result"
    }
   ],
   "source": [
    "# check that the data contains 10,000 points\n",
    "\n",
    "len(data)"
   ]
  },
  {
   "cell_type": "code",
   "execution_count": 12,
   "metadata": {},
   "outputs": [
    {
     "data": {
      "text/plain": [
       "(array([ 332., 1255., 2201., 2327., 1871., 1135.,  547.,  225.,   89.,\n",
       "          18.]),\n",
       " array([0.09725987, 0.50495471, 0.91264956, 1.3203444 , 1.72803925,\n",
       "        2.1357341 , 2.54342894, 2.95112379, 3.35881863, 3.76651348,\n",
       "        4.17420832]),\n",
       " <BarContainer object of 10 artists>)"
      ]
     },
     "execution_count": 12,
     "metadata": {},
     "output_type": "execute_result"
    },
    {
     "data": {
      "image/png": "[encoded data removed]",
      "text/plain": [
       "<Figure size 432x288 with 1 Axes>"
      ]
     },
     "metadata": {
      "needs_background": "light"
     },
     "output_type": "display_data"
    }
   ],
   "source": [
    "# make a histogram of the data, to check how it looks\n",
    "\n",
    "plt.hist(data)"
   ]
  },
  {
   "cell_type": "markdown",
   "metadata": {},
   "source": [
    "Now, use the maxwell function to fit the data. It provides estimates for generic data.\n",
    "\n",
    "Use the option 'floc=0' when you fit the data. Without that, the fit method treats the location as one more free parameter to be included in the fit (which is not what we want)."
   ]
  },
  {
   "cell_type": "code",
   "execution_count": 16,
   "metadata": {},
   "outputs": [
    {
     "name": "stdout",
     "output_type": "stream",
     "text": [
      "(0, 0.9933598342012706)\n"
     ]
    }
   ],
   "source": [
    "params = maxwell.fit(data, floc=0)\n",
    "\n",
    "# print the parameters for the fitted result\n",
    "\n",
    "print(params)"
   ]
  },
  {
   "cell_type": "code",
   "execution_count": 21,
   "metadata": {},
   "outputs": [
    {
     "data": {
      "image/png": "[encoded data removed]",
      "text/plain": [
       "<Figure size 432x288 with 1 Axes>"
      ]
     },
     "metadata": {
      "needs_background": "light"
     },
     "output_type": "display_data"
    }
   ],
   "source": [
    "plt.hist(data, bins=20, density = True)\n",
    "x = np.linspace(0, 5, 100)\n",
    "plt.plot(x, maxwell.pdf(x, *params), lw=3)\n",
    "plt.show()"
   ]
  },
  {
   "cell_type": "markdown",
   "metadata": {},
   "source": [
    "<a id = 'fermi'></a>"
   ]
  },
  {
   "cell_type": "markdown",
   "metadata": {},
   "source": [
    "### Fermi-Dirac distribution function\n",
    "\n",
    "Add details, formula"
   ]
  },
  {
   "cell_type": "code",
   "execution_count": null,
   "metadata": {},
   "outputs": [],
   "source": [
    "fermi = 1.0\n",
    "T = 300\n",
    "kB = 8.6173303e-5\n",
    "\n",
    "\n",
    "def fermi_integral(E, fermi, T):\n",
    "    return 1 / (1 + np.exp((E - fermi) / (kB * T)))"
   ]
  },
  {
   "cell_type": "markdown",
   "metadata": {},
   "source": [
    "<a id = 'bose'></a>"
   ]
  },
  {
   "cell_type": "markdown",
   "metadata": {},
   "source": [
    "### Bose-Einstein distribution function\n",
    "\n",
    "Add details and formula"
   ]
  },
  {
   "cell_type": "code",
   "execution_count": 6,
   "metadata": {},
   "outputs": [
    {
     "data": {
      "image/png": "[encoded data removed]",
      "text/plain": [
       "<Figure size 432x288 with 1 Axes>"
      ]
     },
     "metadata": {
      "needs_background": "light"
     },
     "output_type": "display_data"
    }
   ],
   "source": [
    "def fermi_dirac(x):\n",
    "\n",
    "    fermi_result = (1./(np.exp(x)+1))\n",
    "\n",
    "    return fermi_result\n",
    "\n",
    "def bose_einstein(x):\n",
    "\n",
    "    bose_result = (1/(np.exp(x)-1))\n",
    "\n",
    "    return bose_result\n",
    "\n",
    "x = np.linspace( -2,3, 100)\n",
    "fd = fermi_dirac(x)\n",
    "be = bose_einstein(x)\n",
    "\n",
    "plt.figure()\n",
    "plt.plot(x, fd, label='fermi dirac')\n",
    "plt.plot(x, be, label ='bose einstein')\n",
    "plt.legend(loc='best')\n",
    "plt.show()"
   ]
  },
  {
   "cell_type": "code",
   "execution_count": null,
   "metadata": {},
   "outputs": [],
   "source": []
  },
  {
   "cell_type": "markdown",
   "metadata": {},
   "source": [
    "## Specific Heat\n",
    "- Plot Dulong-Petit law\n",
    "- Einstein distribution function\n",
    "- Debye distribution function for high temperature and low temperature and compare them for the two cases."
   ]
  },
  {
   "cell_type": "markdown",
   "metadata": {},
   "source": [
    "<a id = 'references'></a>"
   ]
  },
  {
   "cell_type": "markdown",
   "metadata": {},
   "source": [
    "## References:\n",
    "1. [python scipy maxwell function](https://docs.scipy.org/doc/scipy/reference/generated/scipy.stats.maxwell.html#scipy.stats.maxwell)"
   ]
  },
  {
   "cell_type": "code",
   "execution_count": null,
   "metadata": {},
   "outputs": [],
   "source": []
  }
 ],
 "metadata": {
  "kernelspec": {
   "display_name": "Python 3",
   "language": "python",
   "name": "python3"
  },
  "language_info": {
   "codemirror_mode": {
    "name": "ipython",
    "version": 3
   },
   "file_extension": ".py",
   "mimetype": "text/x-python",
   "name": "python",
   "nbconvert_exporter": "python",
   "pygments_lexer": "ipython3",
   "version": "3.8.5"
  }
 },
 "nbformat": 4,
 "nbformat_minor": 4
}
